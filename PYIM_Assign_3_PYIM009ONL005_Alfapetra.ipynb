{
  "nbformat": 4,
  "nbformat_minor": 0,
  "metadata": {
    "accelerator": "GPU",
    "colab": {
      "name": "PYIM_Assign_3_PYIM009ONL005_Alfapetra.ipynb",
      "provenance": [],
      "collapsed_sections": [],
      "mount_file_id": "15GVsWXbzJTfuFhjIL0XSiaLE_x3b9gyy",
      "authorship_tag": "ABX9TyMY1+7armNwXPgLTT9r9+yR",
      "include_colab_link": true
    },
    "kernelspec": {
      "display_name": "Python 3",
      "name": "python3"
    },
    "language_info": {
      "name": "python"
    }
  },
  "cells": [
    {
      "cell_type": "markdown",
      "metadata": {
        "id": "view-in-github",
        "colab_type": "text"
      },
      "source": [
        "<a href=\"https://colab.research.google.com/github/alpet25/twofive-twentyfive/blob/main/PYIM_Assign_3_PYIM009ONL005_Alfapetra.ipynb\" target=\"_parent\"><img src=\"https://colab.research.google.com/assets/colab-badge.svg\" alt=\"Open In Colab\"/></a>"
      ]
    },
    {
      "cell_type": "markdown",
      "metadata": {
        "id": "JwRXMwATskp6"
      },
      "source": [
        "Read TSV File and Transform it Into Dataframe"
      ]
    },
    {
      "cell_type": "code",
      "metadata": {
        "id": "9J7um-bxs8zG"
      },
      "source": [
        "import numpy\n",
        "import gzip\n",
        "import csv\n",
        "import pandas as pd\n",
        "import tensorflow as tf\n",
        "from sklearn.model_selection import train_test_split\n",
        "from keras.callbacks import EarlyStopping"
      ],
      "execution_count": 3,
      "outputs": []
    },
    {
      "cell_type": "code",
      "metadata": {
        "colab": {
          "base_uri": "https://localhost:8080/"
        },
        "id": "E1dJQynftenV",
        "outputId": "c181e4fe-ee5b-4540-f8d1-a377d8042d34"
      },
      "source": [
        "from google.colab import drive\n",
        "drive.mount(\"/content/drive\", force_remount= True)"
      ],
      "execution_count": 4,
      "outputs": [
        {
          "output_type": "stream",
          "name": "stdout",
          "text": [
            "Mounted at /content/drive\n"
          ]
        }
      ]
    },
    {
      "cell_type": "code",
      "metadata": {
        "colab": {
          "base_uri": "https://localhost:8080/"
        },
        "id": "KYMgUmSTuL1N",
        "outputId": "0dc4e0b4-c1eb-4e2e-d8b5-844da90ca0c9"
      },
      "source": [
        "%cd \"/content/drive/MyDrive/Colab Notebooks/Text dataset\""
      ],
      "execution_count": 5,
      "outputs": [
        {
          "output_type": "stream",
          "name": "stdout",
          "text": [
            "/content/drive/MyDrive/Colab Notebooks/Text dataset\n"
          ]
        }
      ]
    },
    {
      "cell_type": "code",
      "metadata": {
        "colab": {
          "base_uri": "https://localhost:8080/"
        },
        "id": "5xmsuQy-5oty",
        "outputId": "d758ee87-8ab8-480b-c310-2d7582f96ce6"
      },
      "source": [
        "!ls"
      ],
      "execution_count": 6,
      "outputs": [
        {
          "output_type": "stream",
          "name": "stdout",
          "text": [
            "amazon_reviews_us_Watches_v1_00.tsv\tstudents.csv\n",
            "amazon_reviews_us_Watches_v1_00.tsv.gz\n"
          ]
        }
      ]
    },
    {
      "cell_type": "code",
      "metadata": {
        "id": "Bu8ySqbnuQfH"
      },
      "source": [
        "#a_file = csv.reader(\"/content/drive/MyDrive/Colab Notebooks/Text dataset/amazon_reviews_us_Watches_v1_00.tsv\", \"rt\")\n",
        "#contents = a_file.read()\n",
        "\n",
        "#print(contents)"
      ],
      "execution_count": 7,
      "outputs": []
    },
    {
      "cell_type": "code",
      "metadata": {
        "id": "xg1uLQT02evm",
        "colab": {
          "base_uri": "https://localhost:8080/",
          "height": 1000
        },
        "outputId": "e0b7167b-43ec-4bfa-bc01-9019ff8cf057"
      },
      "source": [
        "import csv\n",
        "tsv_file = open(\"/content/drive/MyDrive/Colab Notebooks/Text dataset/amazon_reviews_us_Watches_v1_00.tsv\")\n",
        "read_tsv = csv.reader(tsv_file, delimiter=\"\\t\")\n",
        "data_file=[]\n",
        "for row in read_tsv:\n",
        "  data_file.append(row)\n",
        "data_file2 = pd.DataFrame(data_file)\n",
        "data_file2.columns = data_file2.iloc[0]\n",
        "data_file3=data_file2.drop(0)\n",
        "data_file3"
      ],
      "execution_count": 8,
      "outputs": [
        {
          "output_type": "execute_result",
          "data": {
            "text/html": [
              "<div>\n",
              "<style scoped>\n",
              "    .dataframe tbody tr th:only-of-type {\n",
              "        vertical-align: middle;\n",
              "    }\n",
              "\n",
              "    .dataframe tbody tr th {\n",
              "        vertical-align: top;\n",
              "    }\n",
              "\n",
              "    .dataframe thead th {\n",
              "        text-align: right;\n",
              "    }\n",
              "</style>\n",
              "<table border=\"1\" class=\"dataframe\">\n",
              "  <thead>\n",
              "    <tr style=\"text-align: right;\">\n",
              "      <th></th>\n",
              "      <th>marketplace</th>\n",
              "      <th>customer_id</th>\n",
              "      <th>review_id</th>\n",
              "      <th>product_id</th>\n",
              "      <th>product_parent</th>\n",
              "      <th>product_title</th>\n",
              "      <th>product_category</th>\n",
              "      <th>star_rating</th>\n",
              "      <th>helpful_votes</th>\n",
              "      <th>total_votes</th>\n",
              "      <th>vine</th>\n",
              "      <th>verified_purchase</th>\n",
              "      <th>review_headline</th>\n",
              "      <th>review_body</th>\n",
              "      <th>review_date</th>\n",
              "      <th>NaN</th>\n",
              "      <th>NaN</th>\n",
              "      <th>NaN</th>\n",
              "      <th>NaN</th>\n",
              "      <th>NaN</th>\n",
              "      <th>NaN</th>\n",
              "      <th>NaN</th>\n",
              "    </tr>\n",
              "  </thead>\n",
              "  <tbody>\n",
              "    <tr>\n",
              "      <th>1</th>\n",
              "      <td>US</td>\n",
              "      <td>3653882</td>\n",
              "      <td>R3O9SGZBVQBV76</td>\n",
              "      <td>B00FALQ1ZC</td>\n",
              "      <td>937001370</td>\n",
              "      <td>Invicta Women's 15150 \"Angel\" 18k Yellow Gold ...</td>\n",
              "      <td>Watches</td>\n",
              "      <td>5</td>\n",
              "      <td>0</td>\n",
              "      <td>0</td>\n",
              "      <td>N</td>\n",
              "      <td>Y</td>\n",
              "      <td>Five Stars</td>\n",
              "      <td>Absolutely love this watch! Get compliments al...</td>\n",
              "      <td>2015-08-31</td>\n",
              "      <td>None</td>\n",
              "      <td>None</td>\n",
              "      <td>None</td>\n",
              "      <td>None</td>\n",
              "      <td>None</td>\n",
              "      <td>None</td>\n",
              "      <td>None</td>\n",
              "    </tr>\n",
              "    <tr>\n",
              "      <th>2</th>\n",
              "      <td>US</td>\n",
              "      <td>14661224</td>\n",
              "      <td>RKH8BNC3L5DLF</td>\n",
              "      <td>B00D3RGO20</td>\n",
              "      <td>484010722</td>\n",
              "      <td>Kenneth Cole New York Women's KC4944 Automatic...</td>\n",
              "      <td>Watches</td>\n",
              "      <td>5</td>\n",
              "      <td>0</td>\n",
              "      <td>0</td>\n",
              "      <td>N</td>\n",
              "      <td>Y</td>\n",
              "      <td>I love thiswatch it keeps time wonderfully</td>\n",
              "      <td>I love this watch it keeps time wonderfully.</td>\n",
              "      <td>2015-08-31</td>\n",
              "      <td>None</td>\n",
              "      <td>None</td>\n",
              "      <td>None</td>\n",
              "      <td>None</td>\n",
              "      <td>None</td>\n",
              "      <td>None</td>\n",
              "      <td>None</td>\n",
              "    </tr>\n",
              "    <tr>\n",
              "      <th>3</th>\n",
              "      <td>US</td>\n",
              "      <td>27324930</td>\n",
              "      <td>R2HLE8WKZSU3NL</td>\n",
              "      <td>B00DKYC7TK</td>\n",
              "      <td>361166390</td>\n",
              "      <td>Ritche 22mm Black Stainless Steel Bracelet Wat...</td>\n",
              "      <td>Watches</td>\n",
              "      <td>2</td>\n",
              "      <td>1</td>\n",
              "      <td>1</td>\n",
              "      <td>N</td>\n",
              "      <td>Y</td>\n",
              "      <td>Two Stars</td>\n",
              "      <td>Scratches</td>\n",
              "      <td>2015-08-31</td>\n",
              "      <td>None</td>\n",
              "      <td>None</td>\n",
              "      <td>None</td>\n",
              "      <td>None</td>\n",
              "      <td>None</td>\n",
              "      <td>None</td>\n",
              "      <td>None</td>\n",
              "    </tr>\n",
              "    <tr>\n",
              "      <th>4</th>\n",
              "      <td>US</td>\n",
              "      <td>7211452</td>\n",
              "      <td>R31U3UH5AZ42LL</td>\n",
              "      <td>B000EQS1JW</td>\n",
              "      <td>958035625</td>\n",
              "      <td>Citizen Men's BM8180-03E Eco-Drive Stainless S...</td>\n",
              "      <td>Watches</td>\n",
              "      <td>5</td>\n",
              "      <td>0</td>\n",
              "      <td>0</td>\n",
              "      <td>N</td>\n",
              "      <td>Y</td>\n",
              "      <td>Five Stars</td>\n",
              "      <td>It works well on me. However, I found cheaper ...</td>\n",
              "      <td>2015-08-31</td>\n",
              "      <td>None</td>\n",
              "      <td>None</td>\n",
              "      <td>None</td>\n",
              "      <td>None</td>\n",
              "      <td>None</td>\n",
              "      <td>None</td>\n",
              "      <td>None</td>\n",
              "    </tr>\n",
              "    <tr>\n",
              "      <th>5</th>\n",
              "      <td>US</td>\n",
              "      <td>12733322</td>\n",
              "      <td>R2SV659OUJ945Y</td>\n",
              "      <td>B00A6GFD7S</td>\n",
              "      <td>765328221</td>\n",
              "      <td>Orient ER27009B Men's Symphony Automatic Stain...</td>\n",
              "      <td>Watches</td>\n",
              "      <td>4</td>\n",
              "      <td>0</td>\n",
              "      <td>0</td>\n",
              "      <td>N</td>\n",
              "      <td>Y</td>\n",
              "      <td>Beautiful face, but cheap sounding links</td>\n",
              "      <td>Beautiful watch face.  The band looks nice all...</td>\n",
              "      <td>2015-08-31</td>\n",
              "      <td>None</td>\n",
              "      <td>None</td>\n",
              "      <td>None</td>\n",
              "      <td>None</td>\n",
              "      <td>None</td>\n",
              "      <td>None</td>\n",
              "      <td>None</td>\n",
              "    </tr>\n",
              "    <tr>\n",
              "      <th>...</th>\n",
              "      <td>...</td>\n",
              "      <td>...</td>\n",
              "      <td>...</td>\n",
              "      <td>...</td>\n",
              "      <td>...</td>\n",
              "      <td>...</td>\n",
              "      <td>...</td>\n",
              "      <td>...</td>\n",
              "      <td>...</td>\n",
              "      <td>...</td>\n",
              "      <td>...</td>\n",
              "      <td>...</td>\n",
              "      <td>...</td>\n",
              "      <td>...</td>\n",
              "      <td>...</td>\n",
              "      <td>...</td>\n",
              "      <td>...</td>\n",
              "      <td>...</td>\n",
              "      <td>...</td>\n",
              "      <td>...</td>\n",
              "      <td>...</td>\n",
              "      <td>...</td>\n",
              "    </tr>\n",
              "    <tr>\n",
              "      <th>960233</th>\n",
              "      <td>US</td>\n",
              "      <td>39508379</td>\n",
              "      <td>REH8UQZAXQS40</td>\n",
              "      <td>B00005OT9I</td>\n",
              "      <td>2153632</td>\n",
              "      <td>Xhilaration&amp;#174; Silver Dial Bangle Watch</td>\n",
              "      <td>Watches</td>\n",
              "      <td>2</td>\n",
              "      <td>17</td>\n",
              "      <td>17</td>\n",
              "      <td>N</td>\n",
              "      <td>N</td>\n",
              "      <td>Great prize - but size??</td>\n",
              "      <td>It's a great watch - but you don't have a chan...</td>\n",
              "      <td>2001-12-13</td>\n",
              "      <td>None</td>\n",
              "      <td>None</td>\n",
              "      <td>None</td>\n",
              "      <td>None</td>\n",
              "      <td>None</td>\n",
              "      <td>None</td>\n",
              "      <td>None</td>\n",
              "    </tr>\n",
              "    <tr>\n",
              "      <th>960234</th>\n",
              "      <td>US</td>\n",
              "      <td>44704251</td>\n",
              "      <td>RJ14QPZEOI9P8</td>\n",
              "      <td>B00005QEM6</td>\n",
              "      <td>903687397</td>\n",
              "      <td>Armitron Men's Titanium 3 Eye Sport Analog Chr...</td>\n",
              "      <td>Watches</td>\n",
              "      <td>5</td>\n",
              "      <td>9</td>\n",
              "      <td>10</td>\n",
              "      <td>N</td>\n",
              "      <td>N</td>\n",
              "      <td>A very classy watch!</td>\n",
              "      <td>Well worth the price. This is a light weight, ...</td>\n",
              "      <td>2001-11-08</td>\n",
              "      <td>None</td>\n",
              "      <td>None</td>\n",
              "      <td>None</td>\n",
              "      <td>None</td>\n",
              "      <td>None</td>\n",
              "      <td>None</td>\n",
              "      <td>None</td>\n",
              "    </tr>\n",
              "    <tr>\n",
              "      <th>960235</th>\n",
              "      <td>US</td>\n",
              "      <td>40571775</td>\n",
              "      <td>R2B1G5650WWFCE</td>\n",
              "      <td>B00005QEME</td>\n",
              "      <td>252821780</td>\n",
              "      <td>Men's Timex Internet Messenger Sport Watch</td>\n",
              "      <td>Watches</td>\n",
              "      <td>5</td>\n",
              "      <td>3</td>\n",
              "      <td>16</td>\n",
              "      <td>N</td>\n",
              "      <td>N</td>\n",
              "      <td>This is a great watch</td>\n",
              "      <td>Dear Targeteers,&lt;BR&gt;This watch is exelent. it ...</td>\n",
              "      <td>2001-11-06</td>\n",
              "      <td>None</td>\n",
              "      <td>None</td>\n",
              "      <td>None</td>\n",
              "      <td>None</td>\n",
              "      <td>None</td>\n",
              "      <td>None</td>\n",
              "      <td>None</td>\n",
              "    </tr>\n",
              "    <tr>\n",
              "      <th>960236</th>\n",
              "      <td>US</td>\n",
              "      <td>44474855</td>\n",
              "      <td>R2MMGPUWXXOFI2</td>\n",
              "      <td>B00004YK0H</td>\n",
              "      <td>118389241</td>\n",
              "      <td>Energizer 393 Button Cell Battery</td>\n",
              "      <td>Watches</td>\n",
              "      <td>4</td>\n",
              "      <td>0</td>\n",
              "      <td>0</td>\n",
              "      <td>N</td>\n",
              "      <td>N</td>\n",
              "      <td>Now watt a minute here.</td>\n",
              "      <td>In the old days, the common hearing battery in...</td>\n",
              "      <td>2001-04-05</td>\n",
              "      <td>None</td>\n",
              "      <td>None</td>\n",
              "      <td>None</td>\n",
              "      <td>None</td>\n",
              "      <td>None</td>\n",
              "      <td>None</td>\n",
              "      <td>None</td>\n",
              "    </tr>\n",
              "    <tr>\n",
              "      <th>960237</th>\n",
              "      <td>US</td>\n",
              "      <td>44474855</td>\n",
              "      <td>R2BZMVAERMRUDE</td>\n",
              "      <td>B00004YK0H</td>\n",
              "      <td>118389241</td>\n",
              "      <td>Energizer 393 Button Cell Battery</td>\n",
              "      <td>Watches</td>\n",
              "      <td>4</td>\n",
              "      <td>5</td>\n",
              "      <td>7</td>\n",
              "      <td>N</td>\n",
              "      <td>N</td>\n",
              "      <td>1/10 Watt difference for hearing aids</td>\n",
              "      <td>I have found that a #393 watch battery is the ...</td>\n",
              "      <td>2001-04-05</td>\n",
              "      <td>None</td>\n",
              "      <td>None</td>\n",
              "      <td>None</td>\n",
              "      <td>None</td>\n",
              "      <td>None</td>\n",
              "      <td>None</td>\n",
              "      <td>None</td>\n",
              "    </tr>\n",
              "  </tbody>\n",
              "</table>\n",
              "<p>960237 rows × 22 columns</p>\n",
              "</div>"
            ],
            "text/plain": [
              "0      marketplace customer_id       review_id  ...   NaN   NaN   NaN\n",
              "1               US     3653882  R3O9SGZBVQBV76  ...  None  None  None\n",
              "2               US    14661224   RKH8BNC3L5DLF  ...  None  None  None\n",
              "3               US    27324930  R2HLE8WKZSU3NL  ...  None  None  None\n",
              "4               US     7211452  R31U3UH5AZ42LL  ...  None  None  None\n",
              "5               US    12733322  R2SV659OUJ945Y  ...  None  None  None\n",
              "...            ...         ...             ...  ...   ...   ...   ...\n",
              "960233          US    39508379   REH8UQZAXQS40  ...  None  None  None\n",
              "960234          US    44704251   RJ14QPZEOI9P8  ...  None  None  None\n",
              "960235          US    40571775  R2B1G5650WWFCE  ...  None  None  None\n",
              "960236          US    44474855  R2MMGPUWXXOFI2  ...  None  None  None\n",
              "960237          US    44474855  R2BZMVAERMRUDE  ...  None  None  None\n",
              "\n",
              "[960237 rows x 22 columns]"
            ]
          },
          "metadata": {},
          "execution_count": 8
        }
      ]
    },
    {
      "cell_type": "markdown",
      "metadata": {
        "id": "MnNeM6LQuae3"
      },
      "source": [
        "See example data"
      ]
    },
    {
      "cell_type": "code",
      "metadata": {
        "id": "euOz_aFhiTno",
        "colab": {
          "base_uri": "https://localhost:8080/"
        },
        "outputId": "69a7bd9f-02c5-4b50-fcce-2f2e90d746db"
      },
      "source": [
        "df = data_file3.copy()\n",
        "def print_plot(index):\n",
        "  example = df[df.index == index][['review_body', 'product_title']].values[0]\n",
        "  if len(example) >0:\n",
        "    print(example[0])\n",
        "    print('Product:', example[1])\n",
        "print_plot(10)"
      ],
      "execution_count": 9,
      "outputs": [
        {
          "output_type": "stream",
          "name": "stdout",
          "text": [
            "Great quality and build.<br />The motors are really silent.<br />After fiddling with the settings my watches are always charged and ready to use.\n",
            "Product: Heiden Quad Watch Winder in Black Leather\n"
          ]
        }
      ]
    },
    {
      "cell_type": "markdown",
      "metadata": {
        "id": "iR3h83ZltLzg"
      },
      "source": [
        "Check data description"
      ]
    },
    {
      "cell_type": "code",
      "metadata": {
        "id": "BEUwfCylivaF",
        "colab": {
          "base_uri": "https://localhost:8080/",
          "height": 333
        },
        "outputId": "bfc12343-a0e3-4f2d-ab04-90d6fb49ab16"
      },
      "source": [
        "df.describe()"
      ],
      "execution_count": 10,
      "outputs": [
        {
          "output_type": "execute_result",
          "data": {
            "text/html": [
              "<div>\n",
              "<style scoped>\n",
              "    .dataframe tbody tr th:only-of-type {\n",
              "        vertical-align: middle;\n",
              "    }\n",
              "\n",
              "    .dataframe tbody tr th {\n",
              "        vertical-align: top;\n",
              "    }\n",
              "\n",
              "    .dataframe thead th {\n",
              "        text-align: right;\n",
              "    }\n",
              "</style>\n",
              "<table border=\"1\" class=\"dataframe\">\n",
              "  <thead>\n",
              "    <tr style=\"text-align: right;\">\n",
              "      <th></th>\n",
              "      <th>marketplace</th>\n",
              "      <th>customer_id</th>\n",
              "      <th>review_id</th>\n",
              "      <th>product_id</th>\n",
              "      <th>product_parent</th>\n",
              "      <th>product_title</th>\n",
              "      <th>product_category</th>\n",
              "      <th>star_rating</th>\n",
              "      <th>helpful_votes</th>\n",
              "      <th>total_votes</th>\n",
              "      <th>vine</th>\n",
              "      <th>verified_purchase</th>\n",
              "      <th>review_headline</th>\n",
              "      <th>review_body</th>\n",
              "      <th>review_date</th>\n",
              "      <th>NaN</th>\n",
              "      <th>NaN</th>\n",
              "      <th>NaN</th>\n",
              "      <th>NaN</th>\n",
              "      <th>NaN</th>\n",
              "      <th>NaN</th>\n",
              "      <th>NaN</th>\n",
              "    </tr>\n",
              "  </thead>\n",
              "  <tbody>\n",
              "    <tr>\n",
              "      <th>count</th>\n",
              "      <td>960237</td>\n",
              "      <td>960237</td>\n",
              "      <td>960237</td>\n",
              "      <td>960237</td>\n",
              "      <td>960237</td>\n",
              "      <td>960237</td>\n",
              "      <td>960237</td>\n",
              "      <td>960237</td>\n",
              "      <td>960237</td>\n",
              "      <td>960237</td>\n",
              "      <td>960237</td>\n",
              "      <td>960237</td>\n",
              "      <td>960237</td>\n",
              "      <td>960237</td>\n",
              "      <td>960233</td>\n",
              "      <td>33</td>\n",
              "      <td>33</td>\n",
              "      <td>33</td>\n",
              "      <td>33</td>\n",
              "      <td>33</td>\n",
              "      <td>33</td>\n",
              "      <td>33</td>\n",
              "    </tr>\n",
              "    <tr>\n",
              "      <th>unique</th>\n",
              "      <td>1</td>\n",
              "      <td>719539</td>\n",
              "      <td>960237</td>\n",
              "      <td>149661</td>\n",
              "      <td>141821</td>\n",
              "      <td>143441</td>\n",
              "      <td>1</td>\n",
              "      <td>5</td>\n",
              "      <td>284</td>\n",
              "      <td>309</td>\n",
              "      <td>2</td>\n",
              "      <td>2</td>\n",
              "      <td>456739</td>\n",
              "      <td>873429</td>\n",
              "      <td>4177</td>\n",
              "      <td>3</td>\n",
              "      <td>3</td>\n",
              "      <td>1</td>\n",
              "      <td>2</td>\n",
              "      <td>24</td>\n",
              "      <td>33</td>\n",
              "      <td>30</td>\n",
              "    </tr>\n",
              "    <tr>\n",
              "      <th>top</th>\n",
              "      <td>US</td>\n",
              "      <td>42418272</td>\n",
              "      <td>R10CNLX7ECKFSI</td>\n",
              "      <td>B000T9VK56</td>\n",
              "      <td>688076877</td>\n",
              "      <td>SE JT6216 21-Piece Watch Repair Kit</td>\n",
              "      <td>Watches</td>\n",
              "      <td>5</td>\n",
              "      <td>0</td>\n",
              "      <td>0</td>\n",
              "      <td>N</td>\n",
              "      <td>Y</td>\n",
              "      <td>Five Stars</td>\n",
              "      <td>good</td>\n",
              "      <td>2014-12-29</td>\n",
              "      <td>0</td>\n",
              "      <td>0</td>\n",
              "      <td>N</td>\n",
              "      <td>Y</td>\n",
              "      <td>Five Stars</td>\n",
              "      <td>watch broken within 3 months and only one of t...</td>\n",
              "      <td>2015-02-25</td>\n",
              "    </tr>\n",
              "    <tr>\n",
              "      <th>freq</th>\n",
              "      <td>960237</td>\n",
              "      <td>407</td>\n",
              "      <td>1</td>\n",
              "      <td>4390</td>\n",
              "      <td>4474</td>\n",
              "      <td>4390</td>\n",
              "      <td>960237</td>\n",
              "      <td>571192</td>\n",
              "      <td>647561</td>\n",
              "      <td>580843</td>\n",
              "      <td>958492</td>\n",
              "      <td>830831</td>\n",
              "      <td>133930</td>\n",
              "      <td>2750</td>\n",
              "      <td>2707</td>\n",
              "      <td>24</td>\n",
              "      <td>23</td>\n",
              "      <td>33</td>\n",
              "      <td>32</td>\n",
              "      <td>9</td>\n",
              "      <td>1</td>\n",
              "      <td>4</td>\n",
              "    </tr>\n",
              "  </tbody>\n",
              "</table>\n",
              "</div>"
            ],
            "text/plain": [
              "0      marketplace  ...         NaN\n",
              "count       960237  ...          33\n",
              "unique           1  ...          30\n",
              "top             US  ...  2015-02-25\n",
              "freq        960237  ...           4\n",
              "\n",
              "[4 rows x 22 columns]"
            ]
          },
          "metadata": {},
          "execution_count": 10
        }
      ]
    },
    {
      "cell_type": "code",
      "metadata": {
        "id": "TedzMxOdCVrl",
        "colab": {
          "base_uri": "https://localhost:8080/"
        },
        "outputId": "ee7ca676-53fb-4c16-f3cf-d4a42f1dadde"
      },
      "source": [
        "data_file3.info()"
      ],
      "execution_count": 11,
      "outputs": [
        {
          "output_type": "stream",
          "name": "stdout",
          "text": [
            "<class 'pandas.core.frame.DataFrame'>\n",
            "Int64Index: 960237 entries, 1 to 960237\n",
            "Data columns (total 22 columns):\n",
            " #   Column             Non-Null Count   Dtype \n",
            "---  ------             --------------   ----- \n",
            " 0   marketplace        960237 non-null  object\n",
            " 1   customer_id        960237 non-null  object\n",
            " 2   review_id          960237 non-null  object\n",
            " 3   product_id         960237 non-null  object\n",
            " 4   product_parent     960237 non-null  object\n",
            " 5   product_title      960237 non-null  object\n",
            " 6   product_category   960237 non-null  object\n",
            " 7   star_rating        960237 non-null  object\n",
            " 8   helpful_votes      960237 non-null  object\n",
            " 9   total_votes        960237 non-null  object\n",
            " 10  vine               960237 non-null  object\n",
            " 11  verified_purchase  960237 non-null  object\n",
            " 12  review_headline    960237 non-null  object\n",
            " 13  review_body        960237 non-null  object\n",
            " 14  review_date        960233 non-null  object\n",
            " 15  None               33 non-null      object\n",
            " 16  None               33 non-null      object\n",
            " 17  None               33 non-null      object\n",
            " 18  None               33 non-null      object\n",
            " 19  None               33 non-null      object\n",
            " 20  None               33 non-null      object\n",
            " 21  None               33 non-null      object\n",
            "dtypes: object(22)\n",
            "memory usage: 168.5+ MB\n"
          ]
        }
      ]
    },
    {
      "cell_type": "code",
      "metadata": {
        "colab": {
          "base_uri": "https://localhost:8080/"
        },
        "id": "pxdFdWntsU81",
        "outputId": "a66ab248-16bc-4f53-fd98-0496f78747d5"
      },
      "source": [
        "df.star_rating.value_counts()"
      ],
      "execution_count": 12,
      "outputs": [
        {
          "output_type": "execute_result",
          "data": {
            "text/plain": [
              "5    571192\n",
              "4    172787\n",
              "1     85130\n",
              "3     79118\n",
              "2     52010\n",
              "Name: star_rating, dtype: int64"
            ]
          },
          "metadata": {},
          "execution_count": 12
        }
      ]
    },
    {
      "cell_type": "code",
      "metadata": {
        "colab": {
          "base_uri": "https://localhost:8080/"
        },
        "id": "XiHkIdCsqM9z",
        "outputId": "8fd8e2a9-c92c-4efd-f328-a8d8b5b5d4b6"
      },
      "source": [
        "df['review_body']"
      ],
      "execution_count": 13,
      "outputs": [
        {
          "output_type": "execute_result",
          "data": {
            "text/plain": [
              "1         Absolutely love this watch! Get compliments al...\n",
              "2              I love this watch it keeps time wonderfully.\n",
              "3                                                 Scratches\n",
              "4         It works well on me. However, I found cheaper ...\n",
              "5         Beautiful watch face.  The band looks nice all...\n",
              "                                ...                        \n",
              "960233    It's a great watch - but you don't have a chan...\n",
              "960234    Well worth the price. This is a light weight, ...\n",
              "960235    Dear Targeteers,<BR>This watch is exelent. it ...\n",
              "960236    In the old days, the common hearing battery in...\n",
              "960237    I have found that a #393 watch battery is the ...\n",
              "Name: review_body, Length: 960237, dtype: object"
            ]
          },
          "metadata": {},
          "execution_count": 13
        }
      ]
    },
    {
      "cell_type": "markdown",
      "metadata": {
        "id": "y6QO-dlUtUfI"
      },
      "source": [
        "Text Preprocessing"
      ]
    },
    {
      "cell_type": "code",
      "metadata": {
        "id": "I2KKI0zujLxW",
        "colab": {
          "base_uri": "https://localhost:8080/"
        },
        "outputId": "1ae8ce1e-1a92-4cf7-f754-ce0196a90b14"
      },
      "source": [
        "pip install nltk"
      ],
      "execution_count": 14,
      "outputs": [
        {
          "output_type": "stream",
          "name": "stdout",
          "text": [
            "Requirement already satisfied: nltk in /usr/local/lib/python3.7/dist-packages (3.2.5)\n",
            "Requirement already satisfied: six in /usr/local/lib/python3.7/dist-packages (from nltk) (1.15.0)\n"
          ]
        }
      ]
    },
    {
      "cell_type": "code",
      "metadata": {
        "id": "n9TwFyQfjPRK",
        "colab": {
          "base_uri": "https://localhost:8080/"
        },
        "outputId": "bff836b8-e058-4cd8-d690-6dcf5975c9a5"
      },
      "source": [
        "import re\n",
        "import nltk\n",
        "from nltk.corpus import stopwords\n",
        "nltk.download('stopwords')\n",
        "df = df.reset_index(drop=True)\n",
        "REPLACE_BY_SPACE_RE = re.compile('[/(){}\\[\\]\\|@,;]')\n",
        "BAD_SYMBOLS_RE = re.compile('[^0-9a-z #+_]')\n",
        "STOPWORDS = set(stopwords.words('english'))\n",
        "print(STOPWORDS)\n",
        "def clean_text(text):\n",
        "  \"\"\"\n",
        "      text : a string\n",
        "\n",
        "      return: modified initial string\n",
        "  \"\"\"\n",
        "  text = text.lower() #lowercase text\n",
        "  text = REPLACE_BY_SPACE_RE.sub(' ', text) #replace REPLACE_BY_SPACE_RE symbols by space in text. substitute the matched string in REPLACE_BY_SPACE_RE with space\n",
        "  text = BAD_SYMBOLS_RE.sub(\" \", text)\n",
        "  text = text.replace('x', '')\n",
        "  text = text.replace('<br />', ' ')\n",
        "  text = text.replace('.<br />', ' ')\n",
        "\n",
        "  text = ' '.join(word for word in text.split() if word not in STOPWORDS)\n",
        "  return text\n",
        "df['review_body'] = df[\"review_body\"].apply(clean_text)\n",
        "df['review_body'] = df['review_body'].str.replace('\\d+', '')\n"
      ],
      "execution_count": 15,
      "outputs": [
        {
          "output_type": "stream",
          "name": "stdout",
          "text": [
            "[nltk_data] Downloading package stopwords to /root/nltk_data...\n",
            "[nltk_data]   Package stopwords is already up-to-date!\n",
            "{'under', \"couldn't\", 'them', 'have', \"that'll\", 'doing', 'very', 'before', 'himself', 'so', 'which', 'had', \"mightn't\", 'they', 'whom', 'below', 'any', 'most', \"you're\", 're', 'a', \"shan't\", 'mustn', 'are', 'that', 't', 'only', 'wasn', 'against', 'up', 'few', \"doesn't\", 'as', 'during', 'no', 'just', 'wouldn', 'themselves', 'your', 'how', 'all', 'in', 'be', 'has', 'me', 'our', 'its', 'these', 'did', 'do', 'her', 'to', 'y', 'why', 'then', 'mightn', 'ma', 'not', \"haven't\", 'you', 'couldn', 'it', 'shouldn', 'if', \"mustn't\", 'on', 'same', 'into', 'with', 've', 'aren', \"weren't\", 'ain', 'doesn', \"wouldn't\", 'haven', 'weren', \"don't\", 'yourself', \"you'd\", 'an', \"didn't\", 'over', 'we', \"it's\", \"won't\", 'further', \"hadn't\", 'through', 'out', 'once', 'here', 'she', 'herself', 'because', 'hers', 'those', 'was', 'the', 'won', 'd', 'am', 'off', 'when', 'm', 'll', 'than', 'too', 'and', 'hadn', 'above', 'now', 'again', 'he', 'isn', 'needn', 'by', \"needn't\", 'itself', \"isn't\", 'ourselves', 'their', 'what', 'is', 'having', 'there', 'hasn', 'shan', \"you'll\", 'i', \"wasn't\", 'didn', 'for', 'being', \"should've\", 'where', \"hasn't\", 'until', 'who', 's', 'theirs', 'nor', \"aren't\", 'don', 'my', 'down', 'but', \"shouldn't\", 'o', 'can', 'been', 'will', 'or', 'own', 'of', 'at', 'about', 'ours', 'were', \"she's\", 'his', 'from', 'such', 'him', 'more', 'each', 'myself', 'this', 'both', 'does', 'other', 'yourselves', 'while', 'some', 'yours', 'between', 'after', 'should', \"you've\"}\n"
          ]
        }
      ]
    },
    {
      "cell_type": "code",
      "metadata": {
        "id": "WDWm6dIpkBps",
        "colab": {
          "base_uri": "https://localhost:8080/"
        },
        "outputId": "95ad66e9-c8ab-47e4-8157-60fa68136fb7"
      },
      "source": [
        "df['review_body']"
      ],
      "execution_count": 16,
      "outputs": [
        {
          "output_type": "execute_result",
          "data": {
            "text/plain": [
              "0         absolutely love watch get compliments almost e...\n",
              "1                         love watch keeps time wonderfully\n",
              "2                                                 scratches\n",
              "3         works well however found cheaper prices places...\n",
              "4         beautiful watch face band looks nice around li...\n",
              "                                ...                        \n",
              "960232              great watch chance change size cant fit\n",
              "960233    well worth price light weight classy looking w...\n",
              "960234    dear targeteers br watch eelent everything eve...\n",
              "960235    old days common hearing battery past used take...\n",
              "960236    found # watch battery size # hearing battery o...\n",
              "Name: review_body, Length: 960237, dtype: object"
            ]
          },
          "metadata": {},
          "execution_count": 16
        }
      ]
    },
    {
      "cell_type": "code",
      "metadata": {
        "id": "ouxTWEG4n0yj",
        "colab": {
          "base_uri": "https://localhost:8080/"
        },
        "outputId": "f06f7d9c-d9dd-4dd8-e9b2-7fd19abd3c4c"
      },
      "source": [
        "print_plot(10)"
      ],
      "execution_count": 17,
      "outputs": [
        {
          "output_type": "stream",
          "name": "stdout",
          "text": [
            "watch pretty much described looks really like simplicity looks pretty amazing slightly big yet adjust glad big rather small weight good hoping satisfied purchase slightly fence getting one previous fossil watch time gems fall ring around numbers far good one ecuse bad lighting pic\n",
            "Product: Fossil Women's ES3621 Serena Crystal-Accented Two-Tone Stainless Steel Watch\n"
          ]
        }
      ]
    },
    {
      "cell_type": "code",
      "metadata": {
        "id": "SPrcqPxbuEdb"
      },
      "source": [
        "from keras.preprocessing.text import Tokenizer"
      ],
      "execution_count": 18,
      "outputs": []
    },
    {
      "cell_type": "code",
      "metadata": {
        "id": "bJvGwGG9uGOi",
        "colab": {
          "base_uri": "https://localhost:8080/"
        },
        "outputId": "74492332-0500-414c-cc0b-130674f3c87e"
      },
      "source": [
        "#maximum number of words to be used\n",
        "MAX_NB_WORDS =5000\n",
        "#Max number of words in each complaint\n",
        "MAX_SEQUENCE_LENGTH =25\n",
        "EMBEDDING_DIM = 100\n",
        "tokenizer = Tokenizer(num_words=MAX_NB_WORDS, filters='!\"#$%&()*+,-./:;<=>?@[\\]^_`{|}~', lower=True)\n",
        "tokenizer.fit_on_texts(df['review_body'].values)\n",
        "word_index = tokenizer.word_index\n",
        "print('Found %s unique tokens.' % len(word_index))"
      ],
      "execution_count": 19,
      "outputs": [
        {
          "output_type": "stream",
          "name": "stdout",
          "text": [
            "Found 119745 unique tokens.\n"
          ]
        }
      ]
    },
    {
      "cell_type": "code",
      "metadata": {
        "id": "yBeGh9BzwNN9",
        "colab": {
          "base_uri": "https://localhost:8080/"
        },
        "outputId": "ca510a23-c1e8-45eb-c493-fece8c0181e4"
      },
      "source": [
        "X = tokenizer.texts_to_sequences(df['review_body'].values)\n",
        "X = tf.keras.preprocessing.sequence.pad_sequences(X, maxlen=MAX_SEQUENCE_LENGTH)\n",
        "print('Shape of data tensor:', X.shape)"
      ],
      "execution_count": 20,
      "outputs": [
        {
          "output_type": "stream",
          "name": "stdout",
          "text": [
            "Shape of data tensor: (960237, 25)\n"
          ]
        }
      ]
    },
    {
      "cell_type": "code",
      "metadata": {
        "id": "uJOxnJkgwT8h"
      },
      "source": [
        "#Y = pd.get_dummies(df['product_title']).values\n",
        "#print('Shape of label tensor:', Y.shape)"
      ],
      "execution_count": 21,
      "outputs": []
    },
    {
      "cell_type": "code",
      "metadata": {
        "id": "39gQZktV3Sli",
        "colab": {
          "base_uri": "https://localhost:8080/"
        },
        "outputId": "2959f288-7107-4ec3-8795-00261e7f71dd"
      },
      "source": [
        "Y = pd.get_dummies(df['star_rating']).values\n",
        "print('Shape of label tensor:', Y.shape)"
      ],
      "execution_count": 22,
      "outputs": [
        {
          "output_type": "stream",
          "name": "stdout",
          "text": [
            "Shape of label tensor: (960237, 5)\n"
          ]
        }
      ]
    },
    {
      "cell_type": "code",
      "metadata": {
        "id": "VWMyOIpj3mmE",
        "colab": {
          "base_uri": "https://localhost:8080/"
        },
        "outputId": "3a34926c-caac-40d5-b4f2-bdfd007f3e09"
      },
      "source": [
        "X_train, X_test, Y_train, Y_test = train_test_split(X,Y, test_size = 0.10, random_state = 42)\n",
        "print(X_train.shape,Y_train.shape)\n",
        "print(X_test.shape,Y_test.shape)"
      ],
      "execution_count": 23,
      "outputs": [
        {
          "output_type": "stream",
          "name": "stdout",
          "text": [
            "(864213, 25) (864213, 5)\n",
            "(96024, 25) (96024, 5)\n"
          ]
        }
      ]
    },
    {
      "cell_type": "code",
      "metadata": {
        "id": "lsxp5IHO3fzd",
        "colab": {
          "base_uri": "https://localhost:8080/"
        },
        "outputId": "3ef19a53-edf3-42e7-c380-bba7f3237e6c"
      },
      "source": [
        "from keras.callbacks import EarlyStopping\n",
        "model = tf.keras.Sequential()\n",
        "model.add(tf.keras.layers.Embedding(MAX_NB_WORDS, EMBEDDING_DIM, input_length=X.shape[1]))\n",
        "model.add(tf.keras.layers.SpatialDropout1D(0.2))\n",
        "model.add(tf.keras.layers.LSTM(100, dropout=0.2, recurrent_dropout=0.2))\n",
        "model.add(tf.keras.layers.Dense(5, activation='softmax'))\n",
        "model.compile(loss='categorical_crossentropy', optimizer='adam', metrics=['accuracy'])\n",
        "\n",
        "epochs = 5\n",
        "batch_size = 64\n",
        "\n",
        "history = model.fit(X_train, Y_train, epochs=epochs, batch_size=batch_size,validation_split=0.1,callbacks=[EarlyStopping(monitor='val_loss', patience=3, min_delta=0.0001)])"
      ],
      "execution_count": 24,
      "outputs": [
        {
          "output_type": "stream",
          "name": "stdout",
          "text": [
            "WARNING:tensorflow:Layer lstm will not use cuDNN kernels since it doesn't meet the criteria. It will use a generic GPU kernel as fallback when running on GPU.\n",
            "Epoch 1/5\n",
            "12153/12153 [==============================] - 2555s 210ms/step - loss: 0.8086 - accuracy: 0.6846 - val_loss: 0.7715 - val_accuracy: 0.6969\n",
            "Epoch 2/5\n",
            "12153/12153 [==============================] - 2561s 211ms/step - loss: 0.7659 - accuracy: 0.6997 - val_loss: 0.7581 - val_accuracy: 0.7008\n",
            "Epoch 3/5\n",
            "12153/12153 [==============================] - 2435s 200ms/step - loss: 0.7496 - accuracy: 0.7055 - val_loss: 0.7532 - val_accuracy: 0.7027\n",
            "Epoch 4/5\n",
            "12153/12153 [==============================] - 2238s 184ms/step - loss: 0.7376 - accuracy: 0.7100 - val_loss: 0.7489 - val_accuracy: 0.7042\n",
            "Epoch 5/5\n",
            "12153/12153 [==============================] - 2232s 184ms/step - loss: 0.7288 - accuracy: 0.7128 - val_loss: 0.7477 - val_accuracy: 0.7058\n"
          ]
        }
      ]
    },
    {
      "cell_type": "code",
      "metadata": {
        "colab": {
          "base_uri": "https://localhost:8080/"
        },
        "id": "6Ssm1uR3lIj4",
        "outputId": "7820814b-25bc-403c-baa3-3c53a006356f"
      },
      "source": [
        "accr = model.evaluate(X_test,Y_test)\n",
        "print('Test set\\n  Loss: {:0.3f}\\n  Accuracy: {:0.3f}'.format(accr[0],accr[1]))"
      ],
      "execution_count": 25,
      "outputs": [
        {
          "output_type": "stream",
          "name": "stdout",
          "text": [
            "3001/3001 [==============================] - 43s 14ms/step - loss: 0.7514 - accuracy: 0.7061\n",
            "Test set\n",
            "  Loss: 0.751\n",
            "  Accuracy: 0.706\n"
          ]
        }
      ]
    },
    {
      "cell_type": "code",
      "metadata": {
        "id": "bOEYvbyAldyV"
      },
      "source": [
        "import matplotlib.pyplot as plt\n",
        "import numpy as np"
      ],
      "execution_count": 31,
      "outputs": []
    },
    {
      "cell_type": "code",
      "metadata": {
        "colab": {
          "base_uri": "https://localhost:8080/",
          "height": 281
        },
        "id": "sqqD7yD3lOxj",
        "outputId": "8d8780da-6d95-4f85-a322-59e2e8218fba"
      },
      "source": [
        "plt.title('Loss')\n",
        "plt.plot(history.history['loss'], label='train')\n",
        "plt.plot(history.history['val_loss'], label='test')\n",
        "plt.legend()\n",
        "plt.show();"
      ],
      "execution_count": 33,
      "outputs": [
        {
          "output_type": "display_data",
          "data": {
            "image/png": "[encoded data removed]",
            "text/plain": [
              "<Figure size 432x288 with 1 Axes>"
            ]
          },
          "metadata": {
            "needs_background": "light"
          }
        }
      ]
    },
    {
      "cell_type": "code",
      "metadata": {
        "colab": {
          "base_uri": "https://localhost:8080/",
          "height": 281
        },
        "id": "6auj7AuMlRN2",
        "outputId": "3d33e17c-d59e-4ec4-afdc-efee6d91cf81"
      },
      "source": [
        "plt.title('Accuracy')\n",
        "plt.plot(history.history['accuracy'], label='train')\n",
        "plt.plot(history.history['val_accuracy'], label='test')\n",
        "plt.legend()\n",
        "plt.show();"
      ],
      "execution_count": 34,
      "outputs": [
        {
          "output_type": "display_data",
          "data": {
            "image/png": "[encoded data removed]",
            "text/plain": [
              "<Figure size 432x288 with 1 Axes>"
            ]
          },
          "metadata": {
            "needs_background": "light"
          }
        }
      ]
    },
    {
      "cell_type": "markdown",
      "metadata": {
        "id": "hP2u9-qglSmI"
      },
      "source": [
        "Review test"
      ]
    },
    {
      "cell_type": "code",
      "metadata": {
        "colab": {
          "base_uri": "https://localhost:8080/"
        },
        "id": "P7FtM7bnlUk0",
        "outputId": "98e71402-d59c-4e74-9f76-2bc38a3f247d"
      },
      "source": [
        "new_review_body = ['I like this watch, it is a the best product i ever see of a watch, i really love it']\n",
        "seq = tokenizer.texts_to_sequences(new_review_body)\n",
        "padded = tf.keras.preprocessing.sequence.pad_sequences(seq, maxlen=MAX_SEQUENCE_LENGTH)\n",
        "pred = model.predict(padded)\n",
        "labels = ['1','2','3','4','5']\n",
        "print(pred, labels[np.argmax(pred)])"
      ],
      "execution_count": 38,
      "outputs": [
        {
          "output_type": "stream",
          "name": "stdout",
          "text": [
            "[[1.8192998e-04 1.6358378e-04 1.5566349e-03 2.6334953e-02 9.7176290e-01]] 5\n"
          ]
        }
      ]
    },
    {
      "cell_type": "code",
      "metadata": {
        "colab": {
          "base_uri": "https://localhost:8080/"
        },
        "id": "yvzStm4WlVxt",
        "outputId": "6e05d182-0c29-4bd6-a816-c3b2ad0c2d86"
      },
      "source": [
        "new_review_body = ['Damn what is this, i really regret buying this product']\n",
        "seq = tokenizer.texts_to_sequences(new_review_body)\n",
        "padded = tf.keras.preprocessing.sequence.pad_sequences(seq, maxlen=MAX_SEQUENCE_LENGTH)\n",
        "pred = model.predict(padded)\n",
        "labels = ['1','2','3','4','5']\n",
        "print(pred, labels[np.argmax(pred)])"
      ],
      "execution_count": 39,
      "outputs": [
        {
          "output_type": "stream",
          "name": "stdout",
          "text": [
            "[[0.5457634  0.13920075 0.05998066 0.02709893 0.22795635]] 1\n"
          ]
        }
      ]
    },
    {
      "cell_type": "code",
      "metadata": {
        "colab": {
          "base_uri": "https://localhost:8080/"
        },
        "id": "Bz_iauMEl7PZ",
        "outputId": "96a8987a-2465-4356-aa79-5d57a2f99754"
      },
      "source": [
        "new_review_body = ['Well i think this product is not good or bad, just a usual watch that i can use daily']\n",
        "seq = tokenizer.texts_to_sequences(new_review_body)\n",
        "padded = tf.keras.preprocessing.sequence.pad_sequences(seq, maxlen=MAX_SEQUENCE_LENGTH)\n",
        "pred = model.predict(padded)\n",
        "labels = ['1','2','3','4','5']\n",
        "print(pred, labels[np.argmax(pred)])"
      ],
      "execution_count": 40,
      "outputs": [
        {
          "output_type": "stream",
          "name": "stdout",
          "text": [
            "[[0.01755397 0.02159876 0.14886062 0.30783683 0.50414985]] 5\n"
          ]
        }
      ]
    },
    {
      "cell_type": "code",
      "metadata": {
        "colab": {
          "base_uri": "https://localhost:8080/"
        },
        "id": "t8EBggfcmEPX",
        "outputId": "20f1efbd-d6a5-4c62-ab11-19c940bda441"
      },
      "source": [
        "new_review_body = ['For a gift i am not going to recommend this, but for daily use its ok i say']\n",
        "seq = tokenizer.texts_to_sequences(new_review_body)\n",
        "padded = tf.keras.preprocessing.sequence.pad_sequences(seq, maxlen=MAX_SEQUENCE_LENGTH)\n",
        "pred = model.predict(padded)\n",
        "labels = ['1','2','3','4','5']\n",
        "print(pred, labels[np.argmax(pred)])"
      ],
      "execution_count": 41,
      "outputs": [
        {
          "output_type": "stream",
          "name": "stdout",
          "text": [
            "[[0.00336509 0.00490833 0.03814232 0.1589321  0.79465216]] 5\n"
          ]
        }
      ]
    }
  ]
}